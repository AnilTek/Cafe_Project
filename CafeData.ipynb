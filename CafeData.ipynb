{
 "cells": [
  {
   "cell_type": "markdown",
   "id": "dc73c5e8-1696-4977-8056-35a1e1a93e43",
   "metadata": {},
   "source": [
    "Kütüphaneler"
   ]
  },
  {
   "cell_type": "code",
   "execution_count": 159,
   "id": "3721a662-40f4-4492-ba9e-840095814abf",
   "metadata": {
    "tags": []
   },
   "outputs": [],
   "source": [
    "import pandas as pd\n",
    "import numpy as np\n",
    "import matplotlib.pyplot as plt\n",
    "import seaborn as sns"
   ]
  },
  {
   "cell_type": "code",
   "execution_count": 160,
   "id": "ff78f25a-ff92-4e95-969b-38dc8258a91e",
   "metadata": {
    "tags": []
   },
   "outputs": [],
   "source": [
    "cafe = sns.load_dataset('tips')\n",
    "df = cafe.copy()\n",
    "df.drop('day',axis=1,inplace=True)"
   ]
  },
  {
   "cell_type": "code",
   "execution_count": 161,
   "id": "16d072e6-68d9-475e-93d5-1d638eca2910",
   "metadata": {
    "tags": []
   },
   "outputs": [
    {
     "data": {
      "text/html": [
       "<div>\n",
       "<style scoped>\n",
       "    .dataframe tbody tr th:only-of-type {\n",
       "        vertical-align: middle;\n",
       "    }\n",
       "\n",
       "    .dataframe tbody tr th {\n",
       "        vertical-align: top;\n",
       "    }\n",
       "\n",
       "    .dataframe thead th {\n",
       "        text-align: right;\n",
       "    }\n",
       "</style>\n",
       "<table border=\"1\" class=\"dataframe\">\n",
       "  <thead>\n",
       "    <tr style=\"text-align: right;\">\n",
       "      <th></th>\n",
       "      <th>total_bill</th>\n",
       "      <th>tip</th>\n",
       "      <th>sex</th>\n",
       "      <th>smoker</th>\n",
       "      <th>time</th>\n",
       "      <th>size</th>\n",
       "    </tr>\n",
       "  </thead>\n",
       "  <tbody>\n",
       "    <tr>\n",
       "      <th>0</th>\n",
       "      <td>16.99</td>\n",
       "      <td>1.01</td>\n",
       "      <td>Female</td>\n",
       "      <td>No</td>\n",
       "      <td>Dinner</td>\n",
       "      <td>2</td>\n",
       "    </tr>\n",
       "    <tr>\n",
       "      <th>1</th>\n",
       "      <td>10.34</td>\n",
       "      <td>1.66</td>\n",
       "      <td>Male</td>\n",
       "      <td>No</td>\n",
       "      <td>Dinner</td>\n",
       "      <td>3</td>\n",
       "    </tr>\n",
       "    <tr>\n",
       "      <th>2</th>\n",
       "      <td>21.01</td>\n",
       "      <td>3.50</td>\n",
       "      <td>Male</td>\n",
       "      <td>No</td>\n",
       "      <td>Dinner</td>\n",
       "      <td>3</td>\n",
       "    </tr>\n",
       "    <tr>\n",
       "      <th>3</th>\n",
       "      <td>23.68</td>\n",
       "      <td>3.31</td>\n",
       "      <td>Male</td>\n",
       "      <td>No</td>\n",
       "      <td>Dinner</td>\n",
       "      <td>2</td>\n",
       "    </tr>\n",
       "    <tr>\n",
       "      <th>4</th>\n",
       "      <td>24.59</td>\n",
       "      <td>3.61</td>\n",
       "      <td>Female</td>\n",
       "      <td>No</td>\n",
       "      <td>Dinner</td>\n",
       "      <td>4</td>\n",
       "    </tr>\n",
       "  </tbody>\n",
       "</table>\n",
       "</div>"
      ],
      "text/plain": [
       "   total_bill   tip     sex smoker    time  size\n",
       "0       16.99  1.01  Female     No  Dinner     2\n",
       "1       10.34  1.66    Male     No  Dinner     3\n",
       "2       21.01  3.50    Male     No  Dinner     3\n",
       "3       23.68  3.31    Male     No  Dinner     2\n",
       "4       24.59  3.61  Female     No  Dinner     4"
      ]
     },
     "execution_count": 161,
     "metadata": {},
     "output_type": "execute_result"
    }
   ],
   "source": [
    "df.head()"
   ]
  },
  {
   "cell_type": "code",
   "execution_count": 162,
   "id": "f5cb2a2a-6368-4809-8a2a-77d0c96b4b2f",
   "metadata": {
    "tags": []
   },
   "outputs": [
    {
     "name": "stdout",
     "output_type": "stream",
     "text": [
      "<class 'pandas.core.frame.DataFrame'>\n",
      "RangeIndex: 244 entries, 0 to 243\n",
      "Data columns (total 6 columns):\n",
      " #   Column      Non-Null Count  Dtype   \n",
      "---  ------      --------------  -----   \n",
      " 0   total_bill  244 non-null    float64 \n",
      " 1   tip         244 non-null    float64 \n",
      " 2   sex         244 non-null    category\n",
      " 3   smoker      244 non-null    category\n",
      " 4   time        244 non-null    category\n",
      " 5   size        244 non-null    int64   \n",
      "dtypes: category(3), float64(2), int64(1)\n",
      "memory usage: 6.9 KB\n"
     ]
    }
   ],
   "source": [
    "df.info()"
   ]
  },
  {
   "cell_type": "code",
   "execution_count": 163,
   "id": "d37269cc-385f-49d4-acc9-d70a61e4e9fd",
   "metadata": {
    "tags": []
   },
   "outputs": [
    {
     "data": {
      "text/html": [
       "<div>\n",
       "<style scoped>\n",
       "    .dataframe tbody tr th:only-of-type {\n",
       "        vertical-align: middle;\n",
       "    }\n",
       "\n",
       "    .dataframe tbody tr th {\n",
       "        vertical-align: top;\n",
       "    }\n",
       "\n",
       "    .dataframe thead th {\n",
       "        text-align: right;\n",
       "    }\n",
       "</style>\n",
       "<table border=\"1\" class=\"dataframe\">\n",
       "  <thead>\n",
       "    <tr style=\"text-align: right;\">\n",
       "      <th></th>\n",
       "      <th>count</th>\n",
       "      <th>mean</th>\n",
       "      <th>std</th>\n",
       "      <th>min</th>\n",
       "      <th>25%</th>\n",
       "      <th>50%</th>\n",
       "      <th>75%</th>\n",
       "      <th>max</th>\n",
       "    </tr>\n",
       "  </thead>\n",
       "  <tbody>\n",
       "    <tr>\n",
       "      <th>total_bill</th>\n",
       "      <td>244.0</td>\n",
       "      <td>19.785943</td>\n",
       "      <td>8.902412</td>\n",
       "      <td>3.07</td>\n",
       "      <td>13.3475</td>\n",
       "      <td>17.795</td>\n",
       "      <td>24.1275</td>\n",
       "      <td>50.81</td>\n",
       "    </tr>\n",
       "    <tr>\n",
       "      <th>tip</th>\n",
       "      <td>244.0</td>\n",
       "      <td>2.998279</td>\n",
       "      <td>1.383638</td>\n",
       "      <td>1.00</td>\n",
       "      <td>2.0000</td>\n",
       "      <td>2.900</td>\n",
       "      <td>3.5625</td>\n",
       "      <td>10.00</td>\n",
       "    </tr>\n",
       "    <tr>\n",
       "      <th>size</th>\n",
       "      <td>244.0</td>\n",
       "      <td>2.569672</td>\n",
       "      <td>0.951100</td>\n",
       "      <td>1.00</td>\n",
       "      <td>2.0000</td>\n",
       "      <td>2.000</td>\n",
       "      <td>3.0000</td>\n",
       "      <td>6.00</td>\n",
       "    </tr>\n",
       "  </tbody>\n",
       "</table>\n",
       "</div>"
      ],
      "text/plain": [
       "            count       mean       std   min      25%     50%      75%    max\n",
       "total_bill  244.0  19.785943  8.902412  3.07  13.3475  17.795  24.1275  50.81\n",
       "tip         244.0   2.998279  1.383638  1.00   2.0000   2.900   3.5625  10.00\n",
       "size        244.0   2.569672  0.951100  1.00   2.0000   2.000   3.0000   6.00"
      ]
     },
     "execution_count": 163,
     "metadata": {},
     "output_type": "execute_result"
    }
   ],
   "source": [
    "df.describe().T"
   ]
  },
  {
   "cell_type": "markdown",
   "id": "e721239b-84b3-4fdd-9b89-c2e731c431a5",
   "metadata": {},
   "source": [
    "Dummy kullanarak string değerleri numeric ifade edeceğim"
   ]
  },
  {
   "cell_type": "code",
   "execution_count": 164,
   "id": "05b8c2fb-3559-4450-aa03-c17948b32b1e",
   "metadata": {
    "tags": []
   },
   "outputs": [],
   "source": [
    "dummys = pd.get_dummies(df[['sex','time','smoker']])"
   ]
  },
  {
   "cell_type": "code",
   "execution_count": 165,
   "id": "1949a4ae-d93e-4ecc-bc69-14e7b3156501",
   "metadata": {
    "tags": []
   },
   "outputs": [],
   "source": [
    "dummys.drop(['sex_Female','time_Lunch','smoker_No'],axis=1,inplace=True)"
   ]
  },
  {
   "cell_type": "code",
   "execution_count": 166,
   "id": "38157022-89ab-4eea-8cf7-095b602baee3",
   "metadata": {
    "tags": []
   },
   "outputs": [],
   "source": [
    "df.drop(['sex','smoker','time'],axis=1,inplace=True)"
   ]
  },
  {
   "cell_type": "code",
   "execution_count": 167,
   "id": "8479d784-938f-4043-97e7-d1d7dc131be4",
   "metadata": {
    "tags": []
   },
   "outputs": [],
   "source": [
    "dummys.columns = ['isMale','isDinner','isSmoker']"
   ]
  },
  {
   "cell_type": "code",
   "execution_count": 168,
   "id": "0caf0914-da36-4f8a-b69d-e05ee2219ccd",
   "metadata": {
    "tags": []
   },
   "outputs": [
    {
     "data": {
      "text/html": [
       "<div>\n",
       "<style scoped>\n",
       "    .dataframe tbody tr th:only-of-type {\n",
       "        vertical-align: middle;\n",
       "    }\n",
       "\n",
       "    .dataframe tbody tr th {\n",
       "        vertical-align: top;\n",
       "    }\n",
       "\n",
       "    .dataframe thead th {\n",
       "        text-align: right;\n",
       "    }\n",
       "</style>\n",
       "<table border=\"1\" class=\"dataframe\">\n",
       "  <thead>\n",
       "    <tr style=\"text-align: right;\">\n",
       "      <th></th>\n",
       "      <th>isMale</th>\n",
       "      <th>isDinner</th>\n",
       "      <th>isSmoker</th>\n",
       "    </tr>\n",
       "  </thead>\n",
       "  <tbody>\n",
       "    <tr>\n",
       "      <th>0</th>\n",
       "      <td>0</td>\n",
       "      <td>1</td>\n",
       "      <td>0</td>\n",
       "    </tr>\n",
       "    <tr>\n",
       "      <th>1</th>\n",
       "      <td>1</td>\n",
       "      <td>1</td>\n",
       "      <td>0</td>\n",
       "    </tr>\n",
       "    <tr>\n",
       "      <th>2</th>\n",
       "      <td>1</td>\n",
       "      <td>1</td>\n",
       "      <td>0</td>\n",
       "    </tr>\n",
       "    <tr>\n",
       "      <th>3</th>\n",
       "      <td>1</td>\n",
       "      <td>1</td>\n",
       "      <td>0</td>\n",
       "    </tr>\n",
       "    <tr>\n",
       "      <th>4</th>\n",
       "      <td>0</td>\n",
       "      <td>1</td>\n",
       "      <td>0</td>\n",
       "    </tr>\n",
       "    <tr>\n",
       "      <th>...</th>\n",
       "      <td>...</td>\n",
       "      <td>...</td>\n",
       "      <td>...</td>\n",
       "    </tr>\n",
       "    <tr>\n",
       "      <th>239</th>\n",
       "      <td>1</td>\n",
       "      <td>1</td>\n",
       "      <td>0</td>\n",
       "    </tr>\n",
       "    <tr>\n",
       "      <th>240</th>\n",
       "      <td>0</td>\n",
       "      <td>1</td>\n",
       "      <td>1</td>\n",
       "    </tr>\n",
       "    <tr>\n",
       "      <th>241</th>\n",
       "      <td>1</td>\n",
       "      <td>1</td>\n",
       "      <td>1</td>\n",
       "    </tr>\n",
       "    <tr>\n",
       "      <th>242</th>\n",
       "      <td>1</td>\n",
       "      <td>1</td>\n",
       "      <td>0</td>\n",
       "    </tr>\n",
       "    <tr>\n",
       "      <th>243</th>\n",
       "      <td>0</td>\n",
       "      <td>1</td>\n",
       "      <td>0</td>\n",
       "    </tr>\n",
       "  </tbody>\n",
       "</table>\n",
       "<p>244 rows × 3 columns</p>\n",
       "</div>"
      ],
      "text/plain": [
       "     isMale  isDinner  isSmoker\n",
       "0         0         1         0\n",
       "1         1         1         0\n",
       "2         1         1         0\n",
       "3         1         1         0\n",
       "4         0         1         0\n",
       "..      ...       ...       ...\n",
       "239       1         1         0\n",
       "240       0         1         1\n",
       "241       1         1         1\n",
       "242       1         1         0\n",
       "243       0         1         0\n",
       "\n",
       "[244 rows x 3 columns]"
      ]
     },
     "execution_count": 168,
     "metadata": {},
     "output_type": "execute_result"
    }
   ],
   "source": [
    "dummys"
   ]
  },
  {
   "cell_type": "code",
   "execution_count": 169,
   "id": "e7eb3137-a076-4b7e-80d2-ccbd8b8d2156",
   "metadata": {
    "tags": []
   },
   "outputs": [],
   "source": [
    "#df.drop(['sex','smoker','time'],axis=1,inplace=True)"
   ]
  },
  {
   "cell_type": "code",
   "execution_count": 170,
   "id": "c828081f-3306-4d2e-8eca-7acadc85c084",
   "metadata": {
    "tags": []
   },
   "outputs": [],
   "source": [
    "newdf = pd.concat([dummys,df],axis=1)"
   ]
  },
  {
   "cell_type": "code",
   "execution_count": 171,
   "id": "44287c6c-29aa-496b-b840-08d76e92d1b2",
   "metadata": {
    "tags": []
   },
   "outputs": [
    {
     "data": {
      "text/html": [
       "<div>\n",
       "<style scoped>\n",
       "    .dataframe tbody tr th:only-of-type {\n",
       "        vertical-align: middle;\n",
       "    }\n",
       "\n",
       "    .dataframe tbody tr th {\n",
       "        vertical-align: top;\n",
       "    }\n",
       "\n",
       "    .dataframe thead th {\n",
       "        text-align: right;\n",
       "    }\n",
       "</style>\n",
       "<table border=\"1\" class=\"dataframe\">\n",
       "  <thead>\n",
       "    <tr style=\"text-align: right;\">\n",
       "      <th></th>\n",
       "      <th>isMale</th>\n",
       "      <th>isDinner</th>\n",
       "      <th>isSmoker</th>\n",
       "      <th>total_bill</th>\n",
       "      <th>tip</th>\n",
       "      <th>size</th>\n",
       "    </tr>\n",
       "  </thead>\n",
       "  <tbody>\n",
       "    <tr>\n",
       "      <th>0</th>\n",
       "      <td>0</td>\n",
       "      <td>1</td>\n",
       "      <td>0</td>\n",
       "      <td>16.99</td>\n",
       "      <td>1.01</td>\n",
       "      <td>2</td>\n",
       "    </tr>\n",
       "    <tr>\n",
       "      <th>1</th>\n",
       "      <td>1</td>\n",
       "      <td>1</td>\n",
       "      <td>0</td>\n",
       "      <td>10.34</td>\n",
       "      <td>1.66</td>\n",
       "      <td>3</td>\n",
       "    </tr>\n",
       "    <tr>\n",
       "      <th>2</th>\n",
       "      <td>1</td>\n",
       "      <td>1</td>\n",
       "      <td>0</td>\n",
       "      <td>21.01</td>\n",
       "      <td>3.50</td>\n",
       "      <td>3</td>\n",
       "    </tr>\n",
       "    <tr>\n",
       "      <th>3</th>\n",
       "      <td>1</td>\n",
       "      <td>1</td>\n",
       "      <td>0</td>\n",
       "      <td>23.68</td>\n",
       "      <td>3.31</td>\n",
       "      <td>2</td>\n",
       "    </tr>\n",
       "    <tr>\n",
       "      <th>4</th>\n",
       "      <td>0</td>\n",
       "      <td>1</td>\n",
       "      <td>0</td>\n",
       "      <td>24.59</td>\n",
       "      <td>3.61</td>\n",
       "      <td>4</td>\n",
       "    </tr>\n",
       "    <tr>\n",
       "      <th>...</th>\n",
       "      <td>...</td>\n",
       "      <td>...</td>\n",
       "      <td>...</td>\n",
       "      <td>...</td>\n",
       "      <td>...</td>\n",
       "      <td>...</td>\n",
       "    </tr>\n",
       "    <tr>\n",
       "      <th>239</th>\n",
       "      <td>1</td>\n",
       "      <td>1</td>\n",
       "      <td>0</td>\n",
       "      <td>29.03</td>\n",
       "      <td>5.92</td>\n",
       "      <td>3</td>\n",
       "    </tr>\n",
       "    <tr>\n",
       "      <th>240</th>\n",
       "      <td>0</td>\n",
       "      <td>1</td>\n",
       "      <td>1</td>\n",
       "      <td>27.18</td>\n",
       "      <td>2.00</td>\n",
       "      <td>2</td>\n",
       "    </tr>\n",
       "    <tr>\n",
       "      <th>241</th>\n",
       "      <td>1</td>\n",
       "      <td>1</td>\n",
       "      <td>1</td>\n",
       "      <td>22.67</td>\n",
       "      <td>2.00</td>\n",
       "      <td>2</td>\n",
       "    </tr>\n",
       "    <tr>\n",
       "      <th>242</th>\n",
       "      <td>1</td>\n",
       "      <td>1</td>\n",
       "      <td>0</td>\n",
       "      <td>17.82</td>\n",
       "      <td>1.75</td>\n",
       "      <td>2</td>\n",
       "    </tr>\n",
       "    <tr>\n",
       "      <th>243</th>\n",
       "      <td>0</td>\n",
       "      <td>1</td>\n",
       "      <td>0</td>\n",
       "      <td>18.78</td>\n",
       "      <td>3.00</td>\n",
       "      <td>2</td>\n",
       "    </tr>\n",
       "  </tbody>\n",
       "</table>\n",
       "<p>244 rows × 6 columns</p>\n",
       "</div>"
      ],
      "text/plain": [
       "     isMale  isDinner  isSmoker  total_bill   tip  size\n",
       "0         0         1         0       16.99  1.01     2\n",
       "1         1         1         0       10.34  1.66     3\n",
       "2         1         1         0       21.01  3.50     3\n",
       "3         1         1         0       23.68  3.31     2\n",
       "4         0         1         0       24.59  3.61     4\n",
       "..      ...       ...       ...         ...   ...   ...\n",
       "239       1         1         0       29.03  5.92     3\n",
       "240       0         1         1       27.18  2.00     2\n",
       "241       1         1         1       22.67  2.00     2\n",
       "242       1         1         0       17.82  1.75     2\n",
       "243       0         1         0       18.78  3.00     2\n",
       "\n",
       "[244 rows x 6 columns]"
      ]
     },
     "execution_count": 171,
     "metadata": {},
     "output_type": "execute_result"
    }
   ],
   "source": [
    "newdf"
   ]
  },
  {
   "cell_type": "markdown",
   "id": "c9b17a7d-1618-458f-ab38-0332b978a96c",
   "metadata": {},
   "source": [
    "Bu dönüştürülmüş dataframe yanımızda bulunsun şimdilik"
   ]
  },
  {
   "cell_type": "markdown",
   "id": "fdff8947-eb66-4d62-90a2-f0e07153794d",
   "metadata": {},
   "source": [
    "Aykırı değer var mı kontrol edeceğim"
   ]
  },
  {
   "cell_type": "code",
   "execution_count": 172,
   "id": "47549dc5-659d-486a-a736-ff5829774da6",
   "metadata": {
    "tags": []
   },
   "outputs": [
    {
     "data": {
      "text/plain": [
       "<Axes: xlabel='total_bill'>"
      ]
     },
     "execution_count": 172,
     "metadata": {},
     "output_type": "execute_result"
    },
    {
     "data": {
      "image/png": "[encoded data removed]",
      "text/plain": [
       "<Figure size 640x480 with 1 Axes>"
      ]
     },
     "metadata": {},
     "output_type": "display_data"
    }
   ],
   "source": [
    "sns.boxplot(x='total_bill',data=newdf)"
   ]
  },
  {
   "cell_type": "code",
   "execution_count": 173,
   "id": "c9fc29e7-a84c-4bea-b682-29e1bb3e19db",
   "metadata": {
    "tags": []
   },
   "outputs": [],
   "source": [
    "Q1= newdf['total_bill'].quantile(0.25)\n",
    "Q3= newdf['total_bill'].quantile(0.75)\n",
    "IRQ= 1.5*(Q3-Q1)\n",
    "\n",
    "lowerlimit = Q1-IRQ\n",
    "higherlimit = Q3+IRQ"
   ]
  },
  {
   "cell_type": "code",
   "execution_count": 174,
   "id": "85f7f8b2-2532-41ff-bd05-c87b9e5a118e",
   "metadata": {
    "tags": []
   },
   "outputs": [
    {
     "name": "stdout",
     "output_type": "stream",
     "text": [
      "Tepe limit 40.29749999999999 Alt Limit -2.8224999999999945\n"
     ]
    }
   ],
   "source": [
    "print('Tepe limit',higherlimit,'Alt Limit',lowerlimit) # alt sınırı 0 olarak kabul ediyorum"
   ]
  },
  {
   "cell_type": "code",
   "execution_count": 176,
   "id": "cb0a2fc4-9369-48aa-bb76-e91ed48e30e8",
   "metadata": {
    "tags": []
   },
   "outputs": [
    {
     "data": {
      "text/html": [
       "<div>\n",
       "<style scoped>\n",
       "    .dataframe tbody tr th:only-of-type {\n",
       "        vertical-align: middle;\n",
       "    }\n",
       "\n",
       "    .dataframe tbody tr th {\n",
       "        vertical-align: top;\n",
       "    }\n",
       "\n",
       "    .dataframe thead th {\n",
       "        text-align: right;\n",
       "    }\n",
       "</style>\n",
       "<table border=\"1\" class=\"dataframe\">\n",
       "  <thead>\n",
       "    <tr style=\"text-align: right;\">\n",
       "      <th></th>\n",
       "      <th>isMale</th>\n",
       "      <th>isDinner</th>\n",
       "      <th>isSmoker</th>\n",
       "      <th>total_bill</th>\n",
       "      <th>tip</th>\n",
       "      <th>size</th>\n",
       "    </tr>\n",
       "  </thead>\n",
       "  <tbody>\n",
       "    <tr>\n",
       "      <th>59</th>\n",
       "      <td>1</td>\n",
       "      <td>1</td>\n",
       "      <td>0</td>\n",
       "      <td>48.27</td>\n",
       "      <td>6.73</td>\n",
       "      <td>4</td>\n",
       "    </tr>\n",
       "    <tr>\n",
       "      <th>102</th>\n",
       "      <td>0</td>\n",
       "      <td>1</td>\n",
       "      <td>1</td>\n",
       "      <td>44.30</td>\n",
       "      <td>2.50</td>\n",
       "      <td>3</td>\n",
       "    </tr>\n",
       "    <tr>\n",
       "      <th>142</th>\n",
       "      <td>1</td>\n",
       "      <td>0</td>\n",
       "      <td>0</td>\n",
       "      <td>41.19</td>\n",
       "      <td>5.00</td>\n",
       "      <td>5</td>\n",
       "    </tr>\n",
       "    <tr>\n",
       "      <th>156</th>\n",
       "      <td>1</td>\n",
       "      <td>1</td>\n",
       "      <td>0</td>\n",
       "      <td>48.17</td>\n",
       "      <td>5.00</td>\n",
       "      <td>6</td>\n",
       "    </tr>\n",
       "    <tr>\n",
       "      <th>170</th>\n",
       "      <td>1</td>\n",
       "      <td>1</td>\n",
       "      <td>1</td>\n",
       "      <td>50.81</td>\n",
       "      <td>10.00</td>\n",
       "      <td>3</td>\n",
       "    </tr>\n",
       "    <tr>\n",
       "      <th>182</th>\n",
       "      <td>1</td>\n",
       "      <td>1</td>\n",
       "      <td>1</td>\n",
       "      <td>45.35</td>\n",
       "      <td>3.50</td>\n",
       "      <td>3</td>\n",
       "    </tr>\n",
       "    <tr>\n",
       "      <th>184</th>\n",
       "      <td>1</td>\n",
       "      <td>1</td>\n",
       "      <td>1</td>\n",
       "      <td>40.55</td>\n",
       "      <td>3.00</td>\n",
       "      <td>2</td>\n",
       "    </tr>\n",
       "    <tr>\n",
       "      <th>197</th>\n",
       "      <td>0</td>\n",
       "      <td>0</td>\n",
       "      <td>1</td>\n",
       "      <td>43.11</td>\n",
       "      <td>5.00</td>\n",
       "      <td>4</td>\n",
       "    </tr>\n",
       "    <tr>\n",
       "      <th>212</th>\n",
       "      <td>1</td>\n",
       "      <td>1</td>\n",
       "      <td>0</td>\n",
       "      <td>48.33</td>\n",
       "      <td>9.00</td>\n",
       "      <td>4</td>\n",
       "    </tr>\n",
       "  </tbody>\n",
       "</table>\n",
       "</div>"
      ],
      "text/plain": [
       "     isMale  isDinner  isSmoker  total_bill    tip  size\n",
       "59        1         1         0       48.27   6.73     4\n",
       "102       0         1         1       44.30   2.50     3\n",
       "142       1         0         0       41.19   5.00     5\n",
       "156       1         1         0       48.17   5.00     6\n",
       "170       1         1         1       50.81  10.00     3\n",
       "182       1         1         1       45.35   3.50     3\n",
       "184       1         1         1       40.55   3.00     2\n",
       "197       0         0         1       43.11   5.00     4\n",
       "212       1         1         0       48.33   9.00     4"
      ]
     },
     "execution_count": 176,
     "metadata": {},
     "output_type": "execute_result"
    }
   ],
   "source": [
    "newdf[newdf['total_bill']>higherlimit]"
   ]
  },
  {
   "cell_type": "code",
   "execution_count": 178,
   "id": "a72865e3-503e-4a20-a932-1742d28dd096",
   "metadata": {
    "tags": []
   },
   "outputs": [
    {
     "data": {
      "text/html": [
       "<div>\n",
       "<style scoped>\n",
       "    .dataframe tbody tr th:only-of-type {\n",
       "        vertical-align: middle;\n",
       "    }\n",
       "\n",
       "    .dataframe tbody tr th {\n",
       "        vertical-align: top;\n",
       "    }\n",
       "\n",
       "    .dataframe thead th {\n",
       "        text-align: right;\n",
       "    }\n",
       "</style>\n",
       "<table border=\"1\" class=\"dataframe\">\n",
       "  <thead>\n",
       "    <tr style=\"text-align: right;\">\n",
       "      <th></th>\n",
       "      <th>isMale</th>\n",
       "      <th>isDinner</th>\n",
       "      <th>isSmoker</th>\n",
       "      <th>total_bill</th>\n",
       "      <th>tip</th>\n",
       "      <th>size</th>\n",
       "    </tr>\n",
       "  </thead>\n",
       "  <tbody>\n",
       "    <tr>\n",
       "      <th>0</th>\n",
       "      <td>0</td>\n",
       "      <td>1</td>\n",
       "      <td>0</td>\n",
       "      <td>16.99</td>\n",
       "      <td>1.01</td>\n",
       "      <td>2</td>\n",
       "    </tr>\n",
       "    <tr>\n",
       "      <th>1</th>\n",
       "      <td>1</td>\n",
       "      <td>1</td>\n",
       "      <td>0</td>\n",
       "      <td>10.34</td>\n",
       "      <td>1.66</td>\n",
       "      <td>3</td>\n",
       "    </tr>\n",
       "    <tr>\n",
       "      <th>2</th>\n",
       "      <td>1</td>\n",
       "      <td>1</td>\n",
       "      <td>0</td>\n",
       "      <td>21.01</td>\n",
       "      <td>3.50</td>\n",
       "      <td>3</td>\n",
       "    </tr>\n",
       "    <tr>\n",
       "      <th>3</th>\n",
       "      <td>1</td>\n",
       "      <td>1</td>\n",
       "      <td>0</td>\n",
       "      <td>23.68</td>\n",
       "      <td>3.31</td>\n",
       "      <td>2</td>\n",
       "    </tr>\n",
       "    <tr>\n",
       "      <th>4</th>\n",
       "      <td>0</td>\n",
       "      <td>1</td>\n",
       "      <td>0</td>\n",
       "      <td>24.59</td>\n",
       "      <td>3.61</td>\n",
       "      <td>4</td>\n",
       "    </tr>\n",
       "    <tr>\n",
       "      <th>...</th>\n",
       "      <td>...</td>\n",
       "      <td>...</td>\n",
       "      <td>...</td>\n",
       "      <td>...</td>\n",
       "      <td>...</td>\n",
       "      <td>...</td>\n",
       "    </tr>\n",
       "    <tr>\n",
       "      <th>239</th>\n",
       "      <td>1</td>\n",
       "      <td>1</td>\n",
       "      <td>0</td>\n",
       "      <td>29.03</td>\n",
       "      <td>5.92</td>\n",
       "      <td>3</td>\n",
       "    </tr>\n",
       "    <tr>\n",
       "      <th>240</th>\n",
       "      <td>0</td>\n",
       "      <td>1</td>\n",
       "      <td>1</td>\n",
       "      <td>27.18</td>\n",
       "      <td>2.00</td>\n",
       "      <td>2</td>\n",
       "    </tr>\n",
       "    <tr>\n",
       "      <th>241</th>\n",
       "      <td>1</td>\n",
       "      <td>1</td>\n",
       "      <td>1</td>\n",
       "      <td>22.67</td>\n",
       "      <td>2.00</td>\n",
       "      <td>2</td>\n",
       "    </tr>\n",
       "    <tr>\n",
       "      <th>242</th>\n",
       "      <td>1</td>\n",
       "      <td>1</td>\n",
       "      <td>0</td>\n",
       "      <td>17.82</td>\n",
       "      <td>1.75</td>\n",
       "      <td>2</td>\n",
       "    </tr>\n",
       "    <tr>\n",
       "      <th>243</th>\n",
       "      <td>0</td>\n",
       "      <td>1</td>\n",
       "      <td>0</td>\n",
       "      <td>18.78</td>\n",
       "      <td>3.00</td>\n",
       "      <td>2</td>\n",
       "    </tr>\n",
       "  </tbody>\n",
       "</table>\n",
       "<p>244 rows × 6 columns</p>\n",
       "</div>"
      ],
      "text/plain": [
       "     isMale  isDinner  isSmoker  total_bill   tip  size\n",
       "0         0         1         0       16.99  1.01     2\n",
       "1         1         1         0       10.34  1.66     3\n",
       "2         1         1         0       21.01  3.50     3\n",
       "3         1         1         0       23.68  3.31     2\n",
       "4         0         1         0       24.59  3.61     4\n",
       "..      ...       ...       ...         ...   ...   ...\n",
       "239       1         1         0       29.03  5.92     3\n",
       "240       0         1         1       27.18  2.00     2\n",
       "241       1         1         1       22.67  2.00     2\n",
       "242       1         1         0       17.82  1.75     2\n",
       "243       0         1         0       18.78  3.00     2\n",
       "\n",
       "[244 rows x 6 columns]"
      ]
     },
     "execution_count": 178,
     "metadata": {},
     "output_type": "execute_result"
    }
   ],
   "source": [
    "newdf['total_bill'].mask(df['total_bill']>higherlimit,higherlimit,inplace=True)\n",
    "newdf\n"
   ]
  },
  {
   "cell_type": "code",
   "execution_count": 180,
   "id": "2cc4c08b-6a3e-4954-a2ad-aac74d293719",
   "metadata": {
    "tags": []
   },
   "outputs": [
    {
     "data": {
      "text/plain": [
       "40.29749999999999"
      ]
     },
     "execution_count": 180,
     "metadata": {},
     "output_type": "execute_result"
    }
   ],
   "source": []
  },
  {
   "cell_type": "code",
   "execution_count": 62,
   "id": "09da397e-7cb5-46b3-ae61-b773deb04c18",
   "metadata": {
    "tags": []
   },
   "outputs": [
    {
     "data": {
      "text/plain": [
       "<Axes: xlabel='tip'>"
      ]
     },
     "execution_count": 62,
     "metadata": {},
     "output_type": "execute_result"
    },
    {
     "data": {
      "image/png": "[encoded data removed]",
      "text/plain": [
       "<Figure size 640x480 with 1 Axes>"
      ]
     },
     "metadata": {},
     "output_type": "display_data"
    }
   ],
   "source": [
    "sns.boxplot(x='tip',data=newdf)"
   ]
  },
  {
   "cell_type": "code",
   "execution_count": 72,
   "id": "e981988c-90c1-4580-9bb6-e672fc74a9c7",
   "metadata": {
    "tags": []
   },
   "outputs": [],
   "source": [
    "Q1_1= newdf['tip'].quantile(0.25)\n",
    "Q3_1= newdf['tip'].quantile(0.75)\n",
    "IRQ_1= 1.5*(Q3_1-Q1_1)\n",
    "\n",
    "lowerlimit_1 = Q1_1-IRQ_1\n",
    "higherlimit_1 = Q3_1+IRQ_1"
   ]
  },
  {
   "cell_type": "code",
   "execution_count": 181,
   "id": "ff0f1a64-e982-4593-a275-b9322b2bf264",
   "metadata": {
    "tags": []
   },
   "outputs": [
    {
     "name": "stdout",
     "output_type": "stream",
     "text": [
      "Tepe limit 5.90625 Alt Limit -0.34375\n"
     ]
    }
   ],
   "source": [
    "print('Tepe limit',higherlimit_1,'Alt Limit',lowerlimit_1) # alt sınırı 0 olarak kabul ediyorum"
   ]
  },
  {
   "cell_type": "code",
   "execution_count": 182,
   "id": "9ac8bf3a-f979-4135-948c-16a1f269e0a3",
   "metadata": {
    "tags": []
   },
   "outputs": [
    {
     "data": {
      "text/html": [
       "<div>\n",
       "<style scoped>\n",
       "    .dataframe tbody tr th:only-of-type {\n",
       "        vertical-align: middle;\n",
       "    }\n",
       "\n",
       "    .dataframe tbody tr th {\n",
       "        vertical-align: top;\n",
       "    }\n",
       "\n",
       "    .dataframe thead th {\n",
       "        text-align: right;\n",
       "    }\n",
       "</style>\n",
       "<table border=\"1\" class=\"dataframe\">\n",
       "  <thead>\n",
       "    <tr style=\"text-align: right;\">\n",
       "      <th></th>\n",
       "      <th>isMale</th>\n",
       "      <th>isDinner</th>\n",
       "      <th>isSmoker</th>\n",
       "      <th>total_bill</th>\n",
       "      <th>tip</th>\n",
       "      <th>size</th>\n",
       "    </tr>\n",
       "  </thead>\n",
       "  <tbody>\n",
       "    <tr>\n",
       "      <th>0</th>\n",
       "      <td>0</td>\n",
       "      <td>1</td>\n",
       "      <td>0</td>\n",
       "      <td>16.99</td>\n",
       "      <td>1.01000</td>\n",
       "      <td>2</td>\n",
       "    </tr>\n",
       "    <tr>\n",
       "      <th>1</th>\n",
       "      <td>1</td>\n",
       "      <td>1</td>\n",
       "      <td>0</td>\n",
       "      <td>10.34</td>\n",
       "      <td>1.66000</td>\n",
       "      <td>3</td>\n",
       "    </tr>\n",
       "    <tr>\n",
       "      <th>2</th>\n",
       "      <td>1</td>\n",
       "      <td>1</td>\n",
       "      <td>0</td>\n",
       "      <td>21.01</td>\n",
       "      <td>3.50000</td>\n",
       "      <td>3</td>\n",
       "    </tr>\n",
       "    <tr>\n",
       "      <th>3</th>\n",
       "      <td>1</td>\n",
       "      <td>1</td>\n",
       "      <td>0</td>\n",
       "      <td>23.68</td>\n",
       "      <td>3.31000</td>\n",
       "      <td>2</td>\n",
       "    </tr>\n",
       "    <tr>\n",
       "      <th>4</th>\n",
       "      <td>0</td>\n",
       "      <td>1</td>\n",
       "      <td>0</td>\n",
       "      <td>24.59</td>\n",
       "      <td>3.61000</td>\n",
       "      <td>4</td>\n",
       "    </tr>\n",
       "    <tr>\n",
       "      <th>...</th>\n",
       "      <td>...</td>\n",
       "      <td>...</td>\n",
       "      <td>...</td>\n",
       "      <td>...</td>\n",
       "      <td>...</td>\n",
       "      <td>...</td>\n",
       "    </tr>\n",
       "    <tr>\n",
       "      <th>239</th>\n",
       "      <td>1</td>\n",
       "      <td>1</td>\n",
       "      <td>0</td>\n",
       "      <td>29.03</td>\n",
       "      <td>5.90625</td>\n",
       "      <td>3</td>\n",
       "    </tr>\n",
       "    <tr>\n",
       "      <th>240</th>\n",
       "      <td>0</td>\n",
       "      <td>1</td>\n",
       "      <td>1</td>\n",
       "      <td>27.18</td>\n",
       "      <td>2.00000</td>\n",
       "      <td>2</td>\n",
       "    </tr>\n",
       "    <tr>\n",
       "      <th>241</th>\n",
       "      <td>1</td>\n",
       "      <td>1</td>\n",
       "      <td>1</td>\n",
       "      <td>22.67</td>\n",
       "      <td>2.00000</td>\n",
       "      <td>2</td>\n",
       "    </tr>\n",
       "    <tr>\n",
       "      <th>242</th>\n",
       "      <td>1</td>\n",
       "      <td>1</td>\n",
       "      <td>0</td>\n",
       "      <td>17.82</td>\n",
       "      <td>1.75000</td>\n",
       "      <td>2</td>\n",
       "    </tr>\n",
       "    <tr>\n",
       "      <th>243</th>\n",
       "      <td>0</td>\n",
       "      <td>1</td>\n",
       "      <td>0</td>\n",
       "      <td>18.78</td>\n",
       "      <td>3.00000</td>\n",
       "      <td>2</td>\n",
       "    </tr>\n",
       "  </tbody>\n",
       "</table>\n",
       "<p>244 rows × 6 columns</p>\n",
       "</div>"
      ],
      "text/plain": [
       "     isMale  isDinner  isSmoker  total_bill      tip  size\n",
       "0         0         1         0       16.99  1.01000     2\n",
       "1         1         1         0       10.34  1.66000     3\n",
       "2         1         1         0       21.01  3.50000     3\n",
       "3         1         1         0       23.68  3.31000     2\n",
       "4         0         1         0       24.59  3.61000     4\n",
       "..      ...       ...       ...         ...      ...   ...\n",
       "239       1         1         0       29.03  5.90625     3\n",
       "240       0         1         1       27.18  2.00000     2\n",
       "241       1         1         1       22.67  2.00000     2\n",
       "242       1         1         0       17.82  1.75000     2\n",
       "243       0         1         0       18.78  3.00000     2\n",
       "\n",
       "[244 rows x 6 columns]"
      ]
     },
     "execution_count": 182,
     "metadata": {},
     "output_type": "execute_result"
    }
   ],
   "source": [
    "newdf['tip'].mask(df['tip']>higherlimit_1,higherlimit_1,inplace=True)\n",
    "newdf"
   ]
  },
  {
   "cell_type": "markdown",
   "id": "cfa12d05-69b6-4221-ac22-30e494a15ef4",
   "metadata": {
    "tags": []
   },
   "source": [
    "BASKILAMA YÖNTEMİ İLE AYKIRI DEĞERLER SINIR DEĞERLER İLE DEĞİŞTİRİLDİ"
   ]
  },
  {
   "cell_type": "markdown",
   "id": "bcb1d3eb-7d5e-4c6a-bac4-5c9488db3a40",
   "metadata": {},
   "source": [
    "ML Kodu"
   ]
  },
  {
   "cell_type": "code",
   "execution_count": 219,
   "id": "c3ba172e-9ddd-4b3a-aeca-fc3b55de54ac",
   "metadata": {
    "tags": []
   },
   "outputs": [],
   "source": [
    "from sklearn.model_selection import train_test_split\n",
    "from sklearn.linear_model import LinearRegression\n",
    "from sklearn.metrics import classification_report,confusion_matrix,mean_squared_error\n",
    "import statsmodels.api as sm\n",
    "from sklearn import metrics\n"
   ]
  },
  {
   "cell_type": "code",
   "execution_count": 220,
   "id": "2d2ebfe9-212c-4550-bc85-a0ac1399f898",
   "metadata": {
    "tags": []
   },
   "outputs": [],
   "source": [
    "X= newdf.drop(['total_bill'],axis=1)\n",
    "y= newdf['total_bill']\n",
    "\n",
    "X_train, X_test, y_train, y_test = train_test_split(X, y, test_size=0.30, random_state=101)"
   ]
  },
  {
   "cell_type": "code",
   "execution_count": 221,
   "id": "e3c3c0d0-9c43-46d7-b709-878b64539634",
   "metadata": {
    "tags": []
   },
   "outputs": [],
   "source": [
    "lm = LinearRegression()"
   ]
  },
  {
   "cell_type": "code",
   "execution_count": 222,
   "id": "1607a0d1-76e9-4e49-873d-0f5be24920e9",
   "metadata": {
    "tags": []
   },
   "outputs": [],
   "source": [
    "model = lm.fit(X_train,y_train)"
   ]
  },
  {
   "cell_type": "code",
   "execution_count": 223,
   "id": "841d2e9f-c91f-467a-8d6e-5393c50f47f3",
   "metadata": {
    "tags": []
   },
   "outputs": [],
   "source": [
    "predictions=model.predict(X_test)"
   ]
  },
  {
   "cell_type": "code",
   "execution_count": 224,
   "id": "85653218-7a4a-4a1f-8cd3-f246204c1991",
   "metadata": {
    "tags": []
   },
   "outputs": [
    {
     "data": {
      "text/plain": [
       "151    13.1300\n",
       "34     17.7800\n",
       "109    14.3100\n",
       "4      24.5900\n",
       "114    25.7100\n",
       "233    10.7700\n",
       "212    40.2975\n",
       "193    15.4800\n",
       "172     7.2500\n",
       "145     8.3500\n",
       "Name: total_bill, dtype: float64"
      ]
     },
     "execution_count": 224,
     "metadata": {},
     "output_type": "execute_result"
    }
   ],
   "source": [
    "y_test[0:10]"
   ]
  },
  {
   "cell_type": "code",
   "execution_count": 225,
   "id": "1f5e87a9-5891-438b-b072-16a9ee00bf47",
   "metadata": {
    "tags": []
   },
   "outputs": [
    {
     "data": {
      "text/plain": [
       "array([13.80313969, 18.23312348, 22.31120681, 24.52213084, 22.8315424 ,\n",
       "       11.9544063 , 33.53078233, 15.21157737, 27.32153632,  9.86815731])"
      ]
     },
     "execution_count": 225,
     "metadata": {},
     "output_type": "execute_result"
    }
   ],
   "source": [
    "predictions[0:10]"
   ]
  },
  {
   "cell_type": "code",
   "execution_count": 226,
   "id": "4326fc34-7402-4495-bec5-1912887c82bd",
   "metadata": {
    "tags": []
   },
   "outputs": [
    {
     "data": {
      "text/plain": [
       "<matplotlib.collections.PathCollection at 0x2808822d0>"
      ]
     },
     "execution_count": 226,
     "metadata": {},
     "output_type": "execute_result"
    },
    {
     "data": {
      "image/png": "[encoded data removed]",
      "text/plain": [
       "<Figure size 640x480 with 1 Axes>"
      ]
     },
     "metadata": {},
     "output_type": "display_data"
    }
   ],
   "source": [
    "plt.scatter(y_test,predictions) ## Çok da iyi tahmin yaptığı söylenemz"
   ]
  },
  {
   "cell_type": "code",
   "execution_count": 229,
   "id": "345d872f-d3e6-43a8-a3e3-09d9f614e852",
   "metadata": {
    "tags": []
   },
   "outputs": [
    {
     "data": {
      "text/plain": [
       "6.32149307594585"
      ]
     },
     "execution_count": 229,
     "metadata": {},
     "output_type": "execute_result"
    }
   ],
   "source": [
    "np.sqrt(metrics.mean_squared_error(y_test,predictions))"
   ]
  },
  {
   "cell_type": "markdown",
   "id": "206da07f-992b-4a40-9118-2b594716425a",
   "metadata": {},
   "source": [
    "TAHMİN BAŞINA +- 1,51 BİRİM KAYMA SÖZ KONUSU"
   ]
  },
  {
   "cell_type": "code",
   "execution_count": 230,
   "id": "423a0568-616c-4071-8ba5-8a153b1c422e",
   "metadata": {
    "tags": []
   },
   "outputs": [
    {
     "data": {
      "text/plain": [
       "0.4376479295911927"
      ]
     },
     "execution_count": 230,
     "metadata": {},
     "output_type": "execute_result"
    }
   ],
   "source": [
    "metrics.explained_variance_score(y_test,predictions)"
   ]
  },
  {
   "cell_type": "code",
   "execution_count": 231,
   "id": "16db956f-09cf-488b-ac04-6f1d855e2e2b",
   "metadata": {
    "tags": []
   },
   "outputs": [],
   "source": [
    "### Çok kötü bir puan ###"
   ]
  },
  {
   "cell_type": "code",
   "execution_count": null,
   "id": "7d90c685-bfd2-4a62-9eca-e41fee9df177",
   "metadata": {},
   "outputs": [],
   "source": []
  },
  {
   "cell_type": "code",
   "execution_count": 232,
   "id": "d7a04f44-bf6a-457b-bfd3-fbcecbbeb192",
   "metadata": {
    "tags": []
   },
   "outputs": [
    {
     "data": {
      "text/plain": [
       "<Axes: xlabel='smoker', ylabel='total_bill'>"
      ]
     },
     "execution_count": 232,
     "metadata": {},
     "output_type": "execute_result"
    },
    {
     "data": {
      "image/png": "[encoded data removed]",
      "text/plain": [
       "<Figure size 640x480 with 1 Axes>"
      ]
     },
     "metadata": {},
     "output_type": "display_data"
    }
   ],
   "source": [
    "sns.boxplot(x='smoker',y='total_bill',hue='day',data=cafe)"
   ]
  },
  {
   "cell_type": "markdown",
   "id": "e8c33f31-b672-40f3-9aca-f23da32d326f",
   "metadata": {},
   "source": [
    "EN FAZLA İŞ YAPAN GÜNÜN PAZAR OLDUĞU GÖRÜLÜYOR HER HALÜKARDA AYRICA SİGARA KULLANAN VE KULLANMAYANLAR \n",
    "ARASINDA KULLANANLARIN HAFTA SONU GELDİĞİ GÖZE ÇARPIYOR (SONUÇ OLARAK İŞLETME SAHİBİ EN BAŞARILI GARSONLARINI HAFTA SONU KULLANABİLİR ÖRNEK OLARAK)"
   ]
  },
  {
   "cell_type": "code",
   "execution_count": 234,
   "id": "13c0972b-92fb-4b20-8320-85d8fb48c9b1",
   "metadata": {
    "tags": []
   },
   "outputs": [
    {
     "data": {
      "text/plain": [
       "<Axes: xlabel='sex', ylabel='total_bill'>"
      ]
     },
     "execution_count": 234,
     "metadata": {},
     "output_type": "execute_result"
    },
    {
     "data": {
      "image/png": "[encoded data removed]",
      "text/plain": [
       "<Figure size 640x480 with 1 Axes>"
      ]
     },
     "metadata": {},
     "output_type": "display_data"
    }
   ],
   "source": [
    "sns.boxplot(x='sex',y='total_bill',hue='time',data=cafe)"
   ]
  },
  {
   "cell_type": "markdown",
   "id": "d70e8dce-d7b9-4f9d-b72b-ad626a78520c",
   "metadata": {},
   "source": [
    "İşletme parsını en çok akşam saatlerinde kazanıyor"
   ]
  },
  {
   "cell_type": "code",
   "execution_count": 237,
   "id": "4a994568-cf96-4e52-98fe-7119e40ea733",
   "metadata": {
    "tags": []
   },
   "outputs": [
    {
     "data": {
      "text/plain": [
       "<Axes: xlabel='day', ylabel='total_bill'>"
      ]
     },
     "execution_count": 237,
     "metadata": {},
     "output_type": "execute_result"
    },
    {
     "data": {
      "image/png": "[encoded data removed]",
      "text/plain": [
       "<Figure size 640x480 with 1 Axes>"
      ]
     },
     "metadata": {},
     "output_type": "display_data"
    }
   ],
   "source": [
    "sns.boxplot(x='day',y='total_bill',hue='size',data=cafe)"
   ]
  },
  {
   "cell_type": "markdown",
   "id": "3ab230fb-1b5b-4277-8057-427eb0d47196",
   "metadata": {
    "tags": []
   },
   "source": [
    "Cumartesi günü daha çok ailecek yada arkadaşlarla ziyaret ediliyor perşembe günü de göz çarpıyor"
   ]
  },
  {
   "cell_type": "code",
   "execution_count": null,
   "id": "d3c3883c-8dec-4068-898a-b5d858ca8512",
   "metadata": {},
   "outputs": [],
   "source": []
  }
 ],
 "metadata": {
  "kernelspec": {
   "display_name": "Python 3 (ipykernel)",
   "language": "python",
   "name": "python3"
  },
  "language_info": {
   "codemirror_mode": {
    "name": "ipython",
    "version": 3
   },
   "file_extension": ".py",
   "mimetype": "text/x-python",
   "name": "python",
   "nbconvert_exporter": "python",
   "pygments_lexer": "ipython3",
   "version": "3.11.4"
  }
 },
 "nbformat": 4,
 "nbformat_minor": 5
}
